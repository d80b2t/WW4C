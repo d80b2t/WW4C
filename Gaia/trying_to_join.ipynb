{
 "cells": [
  {
   "cell_type": "markdown",
   "metadata": {},
   "source": [
    "Okay, so here I'm going to trying 'joining' the couple of Really Large Files that I have for the GaiaDR1xWISEW4 stuff. \n",
    "Wish me luck. "
   ]
  },
  {
   "cell_type": "code",
   "execution_count": 1,
   "metadata": {
    "collapsed": true
   },
   "outputs": [],
   "source": [
    "import numpy  as np\n",
    "import pandas as pd"
   ]
  },
  {
   "cell_type": "code",
   "execution_count": 2,
   "metadata": {
    "collapsed": true
   },
   "outputs": [],
   "source": [
    "#path = '/cos_pc19a_npr/data/WISE/W4/'\n",
    "file = 'WISE_W4_DecOrdered.dat'\n",
    "#file = 'WISE_W4_DecOrdered_first100.dat'\n",
    "col_names=['W4_no', 'RA', 'Decl']"
   ]
  },
  {
   "cell_type": "code",
   "execution_count": 3,
   "metadata": {
    "collapsed": true
   },
   "outputs": [],
   "source": [
    "## https://stackoverflow.com/questions/22809061/read-space-separated-data-with-pandas"
   ]
  },
  {
   "cell_type": "code",
   "execution_count": 4,
   "metadata": {
    "collapsed": true
   },
   "outputs": [],
   "source": [
    "df = pd.read_csv(file, sep='\\s+', names=col_names)"
   ]
  },
  {
   "cell_type": "code",
   "execution_count": 5,
   "metadata": {},
   "outputs": [
    {
     "name": "stdout",
     "output_type": "stream",
     "text": [
      "40939966\n"
     ]
    }
   ],
   "source": [
    "print(len(df))"
   ]
  },
  {
   "cell_type": "code",
   "execution_count": 6,
   "metadata": {
    "collapsed": true
   },
   "outputs": [],
   "source": [
    "#df"
   ]
  },
  {
   "cell_type": "code",
   "execution_count": 7,
   "metadata": {
    "collapsed": true
   },
   "outputs": [],
   "source": [
    "#coll_names=['int', 'Gaid_ID', 'W4_no', 'radius']"
   ]
  },
  {
   "cell_type": "code",
   "execution_count": 8,
   "metadata": {
    "collapsed": true
   },
   "outputs": [],
   "source": [
    "#ingaia = pd.read_csv('GaiaDR1xWISEw4_10as_noDupes_sorted_top100.csv', names=coll_names )\n",
    "#ingaia = pd.read_csv('GaiaDR1xWISEw4_10as_noDupes_sorted_top100.csv')\n",
    "ingaia = pd.read_csv('GaiaDR1xWISEw4_10as_noDupes_sorted.csv')\n",
    "#ingaia = pd.read_csv('GAIADR1xWISE_W4-10as_000Dec002.csv')"
   ]
  },
  {
   "cell_type": "code",
   "execution_count": 9,
   "metadata": {},
   "outputs": [
    {
     "name": "stdout",
     "output_type": "stream",
     "text": [
      "24671865\n"
     ]
    }
   ],
   "source": [
    "print(len(ingaia))"
   ]
  },
  {
   "cell_type": "code",
   "execution_count": 10,
   "metadata": {},
   "outputs": [],
   "source": [
    "#ingaia"
   ]
  },
  {
   "cell_type": "code",
   "execution_count": 11,
   "metadata": {
    "collapsed": true
   },
   "outputs": [],
   "source": [
    "#s_left = pd.merge(df, ingaia, how='left', on=['W4_no'])\n",
    "s_outer = pd.merge(df, ingaia, how='outer', on=['W4_no'])"
   ]
  },
  {
   "cell_type": "code",
   "execution_count": 12,
   "metadata": {},
   "outputs": [
    {
     "name": "stdout",
     "output_type": "stream",
     "text": [
      "40939966\n",
      "41455086\n"
     ]
    }
   ],
   "source": [
    "print(len(s_outer))\n",
    "print(40939966+515120)"
   ]
  },
  {
   "cell_type": "code",
   "execution_count": 19,
   "metadata": {},
   "outputs": [],
   "source": [
    "dff = s_outer[(s_outer['W4_no'] >= 17994100) & (s_outer['W4_no'] <= 17994120)]"
   ]
  },
  {
   "cell_type": "code",
   "execution_count": 20,
   "metadata": {},
   "outputs": [
    {
     "data": {
      "text/html": [
       "<div>\n",
       "<table border=\"1\" class=\"dataframe\">\n",
       "  <thead>\n",
       "    <tr style=\"text-align: right;\">\n",
       "      <th></th>\n",
       "      <th>W4_no</th>\n",
       "      <th>RA</th>\n",
       "      <th>Decl</th>\n",
       "      <th>Unnamed: 0</th>\n",
       "      <th>Gaia_ID</th>\n",
       "      <th>radius</th>\n",
       "    </tr>\n",
       "  </thead>\n",
       "  <tbody>\n",
       "    <tr>\n",
       "      <th>17994100</th>\n",
       "      <td>17994100</td>\n",
       "      <td>209.289890</td>\n",
       "      <td>0.000070</td>\n",
       "      <td>NaN</td>\n",
       "      <td>NaN</td>\n",
       "      <td>NaN</td>\n",
       "    </tr>\n",
       "    <tr>\n",
       "      <th>17994101</th>\n",
       "      <td>17994101</td>\n",
       "      <td>280.430898</td>\n",
       "      <td>0.000069</td>\n",
       "      <td>52062053.0</td>\n",
       "      <td>4.272451e+18</td>\n",
       "      <td>0.070556</td>\n",
       "    </tr>\n",
       "    <tr>\n",
       "      <th>17994102</th>\n",
       "      <td>17994102</td>\n",
       "      <td>277.084414</td>\n",
       "      <td>0.000069</td>\n",
       "      <td>NaN</td>\n",
       "      <td>NaN</td>\n",
       "      <td>NaN</td>\n",
       "    </tr>\n",
       "    <tr>\n",
       "      <th>17994103</th>\n",
       "      <td>17994103</td>\n",
       "      <td>83.510870</td>\n",
       "      <td>0.000069</td>\n",
       "      <td>52062052.0</td>\n",
       "      <td>3.220860e+18</td>\n",
       "      <td>0.005779</td>\n",
       "    </tr>\n",
       "    <tr>\n",
       "      <th>17994104</th>\n",
       "      <td>17994104</td>\n",
       "      <td>251.388592</td>\n",
       "      <td>0.000068</td>\n",
       "      <td>NaN</td>\n",
       "      <td>NaN</td>\n",
       "      <td>NaN</td>\n",
       "    </tr>\n",
       "    <tr>\n",
       "      <th>17994105</th>\n",
       "      <td>17994105</td>\n",
       "      <td>123.994346</td>\n",
       "      <td>0.000067</td>\n",
       "      <td>NaN</td>\n",
       "      <td>NaN</td>\n",
       "      <td>NaN</td>\n",
       "    </tr>\n",
       "    <tr>\n",
       "      <th>17994106</th>\n",
       "      <td>17994106</td>\n",
       "      <td>127.113949</td>\n",
       "      <td>0.000063</td>\n",
       "      <td>NaN</td>\n",
       "      <td>NaN</td>\n",
       "      <td>NaN</td>\n",
       "    </tr>\n",
       "    <tr>\n",
       "      <th>17994107</th>\n",
       "      <td>17994107</td>\n",
       "      <td>4.788617</td>\n",
       "      <td>0.000057</td>\n",
       "      <td>NaN</td>\n",
       "      <td>NaN</td>\n",
       "      <td>NaN</td>\n",
       "    </tr>\n",
       "    <tr>\n",
       "      <th>17994108</th>\n",
       "      <td>17994108</td>\n",
       "      <td>203.145019</td>\n",
       "      <td>0.000055</td>\n",
       "      <td>NaN</td>\n",
       "      <td>NaN</td>\n",
       "      <td>NaN</td>\n",
       "    </tr>\n",
       "    <tr>\n",
       "      <th>17994109</th>\n",
       "      <td>17994109</td>\n",
       "      <td>322.210874</td>\n",
       "      <td>0.000054</td>\n",
       "      <td>NaN</td>\n",
       "      <td>NaN</td>\n",
       "      <td>NaN</td>\n",
       "    </tr>\n",
       "    <tr>\n",
       "      <th>17994110</th>\n",
       "      <td>17994110</td>\n",
       "      <td>285.133511</td>\n",
       "      <td>0.000053</td>\n",
       "      <td>52062047.0</td>\n",
       "      <td>4.265803e+18</td>\n",
       "      <td>0.130637</td>\n",
       "    </tr>\n",
       "    <tr>\n",
       "      <th>17994111</th>\n",
       "      <td>17994111</td>\n",
       "      <td>151.267355</td>\n",
       "      <td>0.000049</td>\n",
       "      <td>NaN</td>\n",
       "      <td>NaN</td>\n",
       "      <td>NaN</td>\n",
       "    </tr>\n",
       "    <tr>\n",
       "      <th>17994112</th>\n",
       "      <td>17994112</td>\n",
       "      <td>20.671238</td>\n",
       "      <td>0.000048</td>\n",
       "      <td>NaN</td>\n",
       "      <td>NaN</td>\n",
       "      <td>NaN</td>\n",
       "    </tr>\n",
       "    <tr>\n",
       "      <th>17994113</th>\n",
       "      <td>17994113</td>\n",
       "      <td>87.768109</td>\n",
       "      <td>0.000048</td>\n",
       "      <td>52062046.0</td>\n",
       "      <td>3.218749e+18</td>\n",
       "      <td>0.024697</td>\n",
       "    </tr>\n",
       "    <tr>\n",
       "      <th>17994114</th>\n",
       "      <td>17994114</td>\n",
       "      <td>279.801660</td>\n",
       "      <td>0.000045</td>\n",
       "      <td>52062044.0</td>\n",
       "      <td>4.272556e+18</td>\n",
       "      <td>0.129685</td>\n",
       "    </tr>\n",
       "    <tr>\n",
       "      <th>17994115</th>\n",
       "      <td>17994115</td>\n",
       "      <td>288.657786</td>\n",
       "      <td>0.000037</td>\n",
       "      <td>52062041.0</td>\n",
       "      <td>4.264009e+18</td>\n",
       "      <td>0.126105</td>\n",
       "    </tr>\n",
       "    <tr>\n",
       "      <th>17994116</th>\n",
       "      <td>17994116</td>\n",
       "      <td>87.189246</td>\n",
       "      <td>0.000027</td>\n",
       "      <td>NaN</td>\n",
       "      <td>NaN</td>\n",
       "      <td>NaN</td>\n",
       "    </tr>\n",
       "    <tr>\n",
       "      <th>17994117</th>\n",
       "      <td>17994117</td>\n",
       "      <td>278.111872</td>\n",
       "      <td>0.000026</td>\n",
       "      <td>52062040.0</td>\n",
       "      <td>4.272981e+18</td>\n",
       "      <td>0.162255</td>\n",
       "    </tr>\n",
       "    <tr>\n",
       "      <th>17994118</th>\n",
       "      <td>17994118</td>\n",
       "      <td>280.487033</td>\n",
       "      <td>0.000021</td>\n",
       "      <td>52062039.0</td>\n",
       "      <td>4.272450e+18</td>\n",
       "      <td>0.004267</td>\n",
       "    </tr>\n",
       "    <tr>\n",
       "      <th>17994119</th>\n",
       "      <td>17994119</td>\n",
       "      <td>84.964862</td>\n",
       "      <td>0.000018</td>\n",
       "      <td>NaN</td>\n",
       "      <td>NaN</td>\n",
       "      <td>NaN</td>\n",
       "    </tr>\n",
       "    <tr>\n",
       "      <th>17994120</th>\n",
       "      <td>17994120</td>\n",
       "      <td>281.260641</td>\n",
       "      <td>0.000008</td>\n",
       "      <td>NaN</td>\n",
       "      <td>NaN</td>\n",
       "      <td>NaN</td>\n",
       "    </tr>\n",
       "  </tbody>\n",
       "</table>\n",
       "</div>"
      ],
      "text/plain": [
       "             W4_no          RA      Decl  Unnamed: 0       Gaia_ID    radius\n",
       "17994100  17994100  209.289890  0.000070         NaN           NaN       NaN\n",
       "17994101  17994101  280.430898  0.000069  52062053.0  4.272451e+18  0.070556\n",
       "17994102  17994102  277.084414  0.000069         NaN           NaN       NaN\n",
       "17994103  17994103   83.510870  0.000069  52062052.0  3.220860e+18  0.005779\n",
       "17994104  17994104  251.388592  0.000068         NaN           NaN       NaN\n",
       "17994105  17994105  123.994346  0.000067         NaN           NaN       NaN\n",
       "17994106  17994106  127.113949  0.000063         NaN           NaN       NaN\n",
       "17994107  17994107    4.788617  0.000057         NaN           NaN       NaN\n",
       "17994108  17994108  203.145019  0.000055         NaN           NaN       NaN\n",
       "17994109  17994109  322.210874  0.000054         NaN           NaN       NaN\n",
       "17994110  17994110  285.133511  0.000053  52062047.0  4.265803e+18  0.130637\n",
       "17994111  17994111  151.267355  0.000049         NaN           NaN       NaN\n",
       "17994112  17994112   20.671238  0.000048         NaN           NaN       NaN\n",
       "17994113  17994113   87.768109  0.000048  52062046.0  3.218749e+18  0.024697\n",
       "17994114  17994114  279.801660  0.000045  52062044.0  4.272556e+18  0.129685\n",
       "17994115  17994115  288.657786  0.000037  52062041.0  4.264009e+18  0.126105\n",
       "17994116  17994116   87.189246  0.000027         NaN           NaN       NaN\n",
       "17994117  17994117  278.111872  0.000026  52062040.0  4.272981e+18  0.162255\n",
       "17994118  17994118  280.487033  0.000021  52062039.0  4.272450e+18  0.004267\n",
       "17994119  17994119   84.964862  0.000018         NaN           NaN       NaN\n",
       "17994120  17994120  281.260641  0.000008         NaN           NaN       NaN"
      ]
     },
     "execution_count": 20,
     "metadata": {},
     "output_type": "execute_result"
    }
   ],
   "source": [
    "dff"
   ]
  },
  {
   "cell_type": "code",
   "execution_count": null,
   "metadata": {
    "collapsed": true
   },
   "outputs": [],
   "source": []
  }
 ],
 "metadata": {
  "anaconda-cloud": {},
  "kernelspec": {
   "display_name": "Python [default]",
   "language": "python",
   "name": "python3"
  },
  "language_info": {
   "codemirror_mode": {
    "name": "ipython",
    "version": 3
   },
   "file_extension": ".py",
   "mimetype": "text/x-python",
   "name": "python",
   "nbconvert_exporter": "python",
   "pygments_lexer": "ipython3",
   "version": "3.5.2"
  }
 },
 "nbformat": 4,
 "nbformat_minor": 2
}
