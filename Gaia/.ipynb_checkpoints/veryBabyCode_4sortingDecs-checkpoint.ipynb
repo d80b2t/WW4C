{
 "cells": [
  {
   "cell_type": "markdown",
   "metadata": {},
   "source": [
    "Purpose: Read in a .tbl file generated from:\n",
    "http://irsa.ipac.caltech.edu/cgi-bin/Gator/\n",
    "and output a:: \n",
    "\n",
    "-- 3-column file (UID, RA, Dec) space separated,\n",
    "\n",
    "-- with truly unique IDs in integer format, \n",
    "\n",
    "-- the RAs and Decs in decimal degrees format, \n",
    "\n",
    "-- and lastly, but most importantly the table needs to be sorted in declination order.\n"
   ]
  },
  {
   "cell_type": "code",
   "execution_count": null,
   "metadata": {
    "collapsed": true
   },
   "outputs": [],
   "source": [
    "''' \n",
    "https://penandpants.com/2012/03/09/reading-text-tables-with-python/\n",
    "http://docs.astropy.org/en/v0.2.1/table/io.html\n",
    "https://python4astronomers.github.io/files/asciifiles.html\n",
    "www.jb.man.ac.uk/~njj/plan.pdf\n",
    "\n",
    "''"
   ]
  },
  {
   "cell_type": "code",
   "execution_count": 52,
   "metadata": {
    "collapsed": true
   },
   "outputs": [],
   "source": [
    "import numpy as np\n",
    "from numpy import *\n",
    "\n",
    "from astropy.table import Table\n",
    "from astropy.io import ascii\n",
    "\n",
    "#import angsep\n",
    "import string\n",
    "import sys\n",
    "import copy"
   ]
  },
  {
   "cell_type": "code",
   "execution_count": 53,
   "metadata": {
    "collapsed": true
   },
   "outputs": [],
   "source": [
    "path = '/cos_pc19a_npr/data/WISE/W4/'"
   ]
  },
  {
   "cell_type": "code",
   "execution_count": 54,
   "metadata": {
    "collapsed": true
   },
   "outputs": [],
   "source": [
    "#filename = 'temp.tbl'\n",
    "filename = 'WISE_W4_W4SNRge3_W4MPROlt8.0_5cols.tbl'\n",
    "datafile = path+filename"
   ]
  },
  {
   "cell_type": "code",
   "execution_count": 55,
   "metadata": {
    "collapsed": true
   },
   "outputs": [],
   "source": [
    "data = np.loadtxt(datafile, skiprows=28)\n",
    "#data = ascii.read(datafile, skiprows=28)"
   ]
  },
  {
   "cell_type": "code",
   "execution_count": 56,
   "metadata": {},
   "outputs": [
    {
     "name": "stdout",
     "output_type": "stream",
     "text": [
      "8246503\n"
     ]
    }
   ],
   "source": [
    "print(len(data))"
   ]
  },
  {
   "cell_type": "code",
   "execution_count": 57,
   "metadata": {},
   "outputs": [
    {
     "name": "stdout",
     "output_type": "stream",
     "text": [
      "[[  1.53030541e+01  -2.17041410e+00   5.83700000e+00   4.40000000e-02\n",
      "    2.48000000e+01]\n",
      " [  1.49554774e+01  -1.96312650e+00   6.50800000e+00   6.70000000e-02\n",
      "    1.63000000e+01]\n",
      " [  1.52183335e+01  -1.73782170e+00   4.55000000e+00   3.00000000e-02\n",
      "    3.62000000e+01]\n",
      " ..., \n",
      " [  5.80832083e+01   5.35758270e+01   6.93300000e+00   2.05000000e-01\n",
      "    5.30000000e+00]\n",
      " [  5.80109739e+01   5.35106340e+01   7.57700000e+00   1.99000000e-01\n",
      "    5.40000000e+00]\n",
      " [  5.81619415e+01   5.34869603e+01   4.88900000e+00   4.30000000e-02\n",
      "    2.51000000e+01]]\n",
      "<class 'numpy.ndarray'>\n"
     ]
    }
   ],
   "source": [
    "print(data)\n",
    "print(type(data))"
   ]
  },
  {
   "cell_type": "code",
   "execution_count": 58,
   "metadata": {
    "collapsed": true
   },
   "outputs": [],
   "source": [
    "decl = data[:, [1,]]"
   ]
  },
  {
   "cell_type": "code",
   "execution_count": 59,
   "metadata": {},
   "outputs": [
    {
     "name": "stdout",
     "output_type": "stream",
     "text": [
      "[[ -2.1704141]\n",
      " [ -1.9631265]\n",
      " [ -1.7378217]\n",
      " ..., \n",
      " [ 53.575827 ]\n",
      " [ 53.510634 ]\n",
      " [ 53.4869603]]\n",
      "<class 'numpy.ndarray'>\n"
     ]
    }
   ],
   "source": [
    "print(decl)\n",
    "print(type(decl))"
   ]
  },
  {
   "cell_type": "code",
   "execution_count": 80,
   "metadata": {
    "collapsed": true
   },
   "outputs": [],
   "source": [
    "#arr = np.random.random((1000,1500))\n",
    "decsorted = np.reshape(decl, decl.shape[0]*decl.shape[1])\n",
    "decsorted.sort()\n",
    "decsorted = decsorted[::-1]\n"
   ]
  },
  {
   "cell_type": "code",
   "execution_count": 82,
   "metadata": {},
   "outputs": [
    {
     "name": "stdout",
     "output_type": "stream",
     "text": [
      "[ 89.9638467  89.9406338  89.8323496  89.8303796  89.8112911  89.7872161\n",
      "  89.7786876  89.7381253  89.7305847  89.702168   89.6564701  89.6506167\n",
      "  89.6483451  89.6312693  89.6302419  89.6293707  89.6182588  89.6148004\n",
      "  89.6118875  89.6076938  89.603768   89.5987439  89.5648013  89.5160997\n",
      "  89.5152154  89.5137577  89.4956985  89.4920587  89.4840757  89.476927\n",
      "  89.4703789  89.4612825  89.4447602  89.4442988  89.4219506  89.4207004\n",
      "  89.4147822  89.4084901  89.3989086  89.3923943  89.3916126  89.3642438\n",
      "  89.3639857  89.3601123  89.355165   89.3548126  89.3463475  89.3442442\n",
      "  89.3439159  89.3431616  89.3298039  89.3228813  89.3122877  89.3103185\n",
      "  89.3065486  89.3019707  89.2979965  89.295586   89.2718247  89.2713876\n",
      "  89.2640657  89.2567303  89.2566996  89.2508815  89.248153   89.2380475\n",
      "  89.2340495  89.2241428  89.215468   89.2125461  89.1999847  89.1945927\n",
      "  89.194408   89.1939119  89.1878446  89.1874564  89.1851643  89.1789399\n",
      "  89.1773927  89.1736634  89.1698413  89.1659788  89.1643656  89.1638961\n",
      "  89.1589907  89.1567459  89.1430834  89.131717   89.1185119  89.1173942\n",
      "  89.1170465  89.1163287  89.1157636  89.114946   89.114909   89.1048041\n",
      "  89.1041364  89.1033842  89.1013523  89.1010748]\n",
      "89.9638467\n"
     ]
    }
   ],
   "source": [
    "print(decsorted[0:100])\n",
    "print(decl.max())"
   ]
  },
  {
   "cell_type": "code",
   "execution_count": null,
   "metadata": {
    "collapsed": true
   },
   "outputs": [],
   "source": []
  }
 ],
 "metadata": {
  "anaconda-cloud": {},
  "kernelspec": {
   "display_name": "Python [default]",
   "language": "python",
   "name": "python3"
  },
  "language_info": {
   "codemirror_mode": {
    "name": "ipython",
    "version": 3
   },
   "file_extension": ".py",
   "mimetype": "text/x-python",
   "name": "python",
   "nbconvert_exporter": "python",
   "pygments_lexer": "ipython3",
   "version": "3.5.2"
  }
 },
 "nbformat": 4,
 "nbformat_minor": 2
}
