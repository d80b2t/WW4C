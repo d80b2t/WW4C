{
 "cells": [
  {
   "cell_type": "markdown",
   "metadata": {},
   "source": [
    "Purpose: Read in a .tbl file generated from:\n",
    "http://irsa.ipac.caltech.edu/cgi-bin/Gator/\n",
    "and output a:: \n",
    "\n",
    "-- 3-column file (UID, RA, Dec) space separated,\n",
    "\n",
    "-- with truly unique IDs in integer format, \n",
    "\n",
    "-- the RAs and Decs in decimal degrees format, \n",
    "\n",
    "-- and lastly, but most importantly the table needs to be sorted in declination order.\n"
   ]
  },
  {
   "cell_type": "code",
   "execution_count": 1,
   "metadata": {
    "collapsed": true
   },
   "outputs": [],
   "source": [
    "import numpy as np\n",
    "from numpy import *\n",
    "\n",
    "from astropy.table import Table\n",
    "from astropy.io import ascii"
   ]
  },
  {
   "cell_type": "code",
   "execution_count": 2,
   "metadata": {
    "collapsed": true
   },
   "outputs": [],
   "source": [
    "path = '/cos_pc19a_npr/data/WISE/W4/'"
   ]
  },
  {
   "cell_type": "code",
   "execution_count": 3,
   "metadata": {
    "collapsed": true
   },
   "outputs": [],
   "source": [
    "filename = 'WISE_W4_DetBitge8_RADeclsorted.tbl'\n",
    "datafile = path+filename"
   ]
  },
  {
   "cell_type": "code",
   "execution_count": 4,
   "metadata": {
    "collapsed": true
   },
   "outputs": [],
   "source": [
    "#data = np.loadtxt(datafile, skiprows=28)\n",
    "data = ascii.read(datafile)"
   ]
  },
  {
   "cell_type": "code",
   "execution_count": 5,
   "metadata": {},
   "outputs": [
    {
     "name": "stdout",
     "output_type": "stream",
     "text": [
      "40939966\n",
      "<class 'astropy.table.table.Table'>\n"
     ]
    }
   ],
   "source": [
    "#print(data)\n",
    "print(len(data))\n",
    "print(type(data))"
   ]
  },
  {
   "cell_type": "code",
   "execution_count": 6,
   "metadata": {},
   "outputs": [
    {
     "name": "stdout",
     "output_type": "stream",
     "text": [
      "<class 'numpy.float64'>\n"
     ]
    }
   ],
   "source": [
    "print(type(data['ra'][0]))\n",
    "ra = data['ra']\n",
    "dec = data['dec']\n"
   ]
  },
  {
   "cell_type": "code",
   "execution_count": 7,
   "metadata": {
    "collapsed": true
   },
   "outputs": [],
   "source": [
    "f = open('order_output_temp.dat', 'w')"
   ]
  },
  {
   "cell_type": "code",
   "execution_count": 8,
   "metadata": {},
   "outputs": [
    {
     "name": "stdout",
     "output_type": "stream",
     "text": [
      " 40939966\t93.13192270\t89.96733220\n",
      "\n",
      " 40939966 93.13192270 89.96733220\n",
      "\n"
     ]
    }
   ],
   "source": [
    "print(\"%9d\\t%.8f\\t%.8f\\n\" % (40939966, ra[0], dec[0]))\n",
    "print(\"%9d %.8f %.8f\\n\" % (40939966, ra[0], dec[0]))"
   ]
  },
  {
   "cell_type": "code",
   "execution_count": 9,
   "metadata": {
    "collapsed": true
   },
   "outputs": [],
   "source": [
    "for ii in range(0, len(data)):\n",
    "    #print( long(ii), data['ra'][ii], data['dec'][ii])\n",
    "    #out = str(% 03d\\t%.6f\\t%.6f\\n\"%(ii, ra[ii], dec[ii]))\n",
    " #   print(out)\n",
    "    #myfile.write(ii, data['ra'][0], data['dec'][0])\n",
    "#    f.write(\"%d %d %d\" % (long(ii), data['ra'][ii], data['dec'][ii]))\n",
    "    f.write(\"%9d %.8f %.8f\\n\"%(ii, ra[ii], dec[ii]))\n",
    "    \n",
    "#print(type(ii))"
   ]
  },
  {
   "cell_type": "code",
   "execution_count": 10,
   "metadata": {
    "collapsed": true
   },
   "outputs": [],
   "source": [
    "f.close()"
   ]
  },
  {
   "cell_type": "code",
   "execution_count": null,
   "metadata": {
    "collapsed": true
   },
   "outputs": [],
   "source": []
  }
 ],
 "metadata": {
  "anaconda-cloud": {},
  "kernelspec": {
   "display_name": "Python [default]",
   "language": "python",
   "name": "python3"
  },
  "language_info": {
   "codemirror_mode": {
    "name": "ipython",
    "version": 3
   },
   "file_extension": ".py",
   "mimetype": "text/x-python",
   "name": "python",
   "nbconvert_exporter": "python",
   "pygments_lexer": "ipython3",
   "version": "3.5.2"
  }
 },
 "nbformat": 4,
 "nbformat_minor": 2
}
