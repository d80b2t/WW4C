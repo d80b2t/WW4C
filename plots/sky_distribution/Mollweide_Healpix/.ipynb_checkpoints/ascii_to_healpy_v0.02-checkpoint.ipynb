{
 "cells": [
  {
   "cell_type": "code",
   "execution_count": 2,
   "metadata": {
    "collapsed": true
   },
   "outputs": [],
   "source": [
    "%matplotlib inline "
   ]
  },
  {
   "cell_type": "code",
   "execution_count": 3,
   "metadata": {
    "collapsed": true
   },
   "outputs": [],
   "source": [
    "import numpy as np\n",
    "import healpy as hp\n",
    "import math \n",
    "from astropy.io import ascii\n",
    "import matplotlib.pyplot as plt"
   ]
  },
  {
   "cell_type": "code",
   "execution_count": 4,
   "metadata": {},
   "outputs": [],
   "source": [
    "path = '/cos_pc19a_npr/data/WISE/W4/'\n",
    "#datafile = 'WISE_W4SNRge3_and_W4MPRO_lt_6.0_RADecls.dat'\n",
    "#datafile = 'WISE_W4_DetBitge8_RADeclsorted.tbl'\n",
    "datafile = 'WISE_W4_DetBitge8_RADeclsorted_top100.tbl'\n",
    "input_file = path+datafile"
   ]
  },
  {
   "cell_type": "code",
   "execution_count": 5,
   "metadata": {
    "collapsed": true
   },
   "outputs": [],
   "source": [
    "data = ascii.read(input_file)  "
   ]
  },
  {
   "cell_type": "code",
   "execution_count": 14,
   "metadata": {
    "collapsed": true
   },
   "outputs": [],
   "source": [
    "nSide = 4            ##  only the powers of 2 here                   \n",
    "nPix = 12*(nSide)**2   ## Do not change this - always true\n",
    "pixelMap = [0]*nPix\n",
    "pixelMapP = [0]*nPix"
   ]
  },
  {
   "cell_type": "code",
   "execution_count": 15,
   "metadata": {},
   "outputs": [
    {
     "data": {
      "text/html": [
       "&lt;Table length=110&gt;\n",
       "<table id=\"table4426328216\" class=\"table-striped table-bordered table-condensed\">\n",
       "<thead><tr><th>col1</th><th>col2</th></tr></thead>\n",
       "<thead><tr><th>float64</th><th>float64</th></tr></thead>\n",
       "<tr><td>93.1319227</td><td>89.9673322</td></tr>\n",
       "<tr><td>45.5279249</td><td>89.9650646</td></tr>\n",
       "<tr><td>305.3972584</td><td>89.964704</td></tr>\n",
       "<tr><td>308.3194375</td><td>89.9638467</td></tr>\n",
       "<tr><td>201.2951013</td><td>89.9617562</td></tr>\n",
       "<tr><td>309.258833</td><td>89.9609863</td></tr>\n",
       "<tr><td>13.9739514</td><td>89.9599744</td></tr>\n",
       "<tr><td>253.1505402</td><td>89.9575338</td></tr>\n",
       "<tr><td>43.1401011</td><td>89.9564656</td></tr>\n",
       "<tr><td>251.4487232</td><td>89.9510768</td></tr>\n",
       "<tr><td>...</td><td>...</td></tr>\n",
       "<tr><td>356.4292395</td><td>89.8036212</td></tr>\n",
       "<tr><td>260.9990792</td><td>89.8012584</td></tr>\n",
       "<tr><td>132.0468165</td><td>89.7994273</td></tr>\n",
       "<tr><td>135.5730603</td><td>89.7993377</td></tr>\n",
       "<tr><td>57.1147644</td><td>89.7978303</td></tr>\n",
       "<tr><td>294.3718766</td><td>89.7974699</td></tr>\n",
       "<tr><td>82.6851336</td><td>89.7973721</td></tr>\n",
       "<tr><td>251.3120277</td><td>89.7965664</td></tr>\n",
       "<tr><td>205.6485768</td><td>89.7952323</td></tr>\n",
       "<tr><td>233.9500677</td><td>89.7940347</td></tr>\n",
       "</table>"
      ],
      "text/plain": [
       "<Table length=110>\n",
       "    col1       col2   \n",
       "  float64    float64  \n",
       "----------- ----------\n",
       " 93.1319227 89.9673322\n",
       " 45.5279249 89.9650646\n",
       "305.3972584  89.964704\n",
       "308.3194375 89.9638467\n",
       "201.2951013 89.9617562\n",
       " 309.258833 89.9609863\n",
       " 13.9739514 89.9599744\n",
       "253.1505402 89.9575338\n",
       " 43.1401011 89.9564656\n",
       "251.4487232 89.9510768\n",
       "        ...        ...\n",
       "356.4292395 89.8036212\n",
       "260.9990792 89.8012584\n",
       "132.0468165 89.7994273\n",
       "135.5730603 89.7993377\n",
       " 57.1147644 89.7978303\n",
       "294.3718766 89.7974699\n",
       " 82.6851336 89.7973721\n",
       "251.3120277 89.7965664\n",
       "205.6485768 89.7952323\n",
       "233.9500677 89.7940347"
      ]
     },
     "execution_count": 15,
     "metadata": {},
     "output_type": "execute_result"
    }
   ],
   "source": [
    "data"
   ]
  },
  {
   "cell_type": "code",
   "execution_count": 16,
   "metadata": {},
   "outputs": [],
   "source": [
    "ra = data['col1']\n",
    "dec = data['col2']\n",
    "pi = math.pi"
   ]
  },
  {
   "cell_type": "code",
   "execution_count": 17,
   "metadata": {},
   "outputs": [],
   "source": [
    "for row in data:\n",
    "    l = row[0]\n",
    "    b = row[1]\n",
    "\n",
    "    theta = (-1.*b + 90.)/180.*pi\n",
    "    phi = l/180.*pi\n",
    "    pixelNum = hp.pixelfunc.ang2pix(nSide, theta, phi, nest=False)\n",
    "    pixelMap[pixelNum] += 1\n",
    "\n",
    "pixelMap = np.array(pixelMap)"
   ]
  },
  {
   "cell_type": "code",
   "execution_count": 18,
   "metadata": {},
   "outputs": [
    {
     "name": "stdout",
     "output_type": "stream",
     "text": [
      "2\n",
      "[28 22 36 24  0  0  0  0  0  0  0  0  0  0  0  0  0  0  0  0  0  0  0  0  0\n",
      "  0  0  0  0  0  0  0  0  0  0  0  0  0  0  0  0  0  0  0  0  0  0  0  0  0\n",
      "  0  0  0  0  0  0  0  0  0  0  0  0  0  0  0  0  0  0  0  0  0  0  0  0  0\n",
      "  0  0  0  0  0  0  0  0  0  0  0  0  0  0  0  0  0  0  0  0  0  0  0  0  0\n",
      "  0  0  0  0  0  0  0  0  0  0  0  0  0  0  0  0  0  0  0  0  0  0  0  0  0\n",
      "  0  0  0  0  0  0  0  0  0  0  0  0  0  0  0  0  0  0  0  0  0  0  0  0  0\n",
      "  0  0  0  0  0  0  0  0  0  0  0  0  0  0  0  0  0  0  0  0  0  0  0  0  0\n",
      "  0  0  0  0  0  0  0  0  0  0  0  0  0  0  0  0  0]\n"
     ]
    }
   ],
   "source": [
    "print(pixelNum)\n",
    "print(pixelMap)"
   ]
  },
  {
   "cell_type": "code",
   "execution_count": 22,
   "metadata": {
    "scrolled": true
   },
   "outputs": [
    {
     "name": "stdout",
     "output_type": "stream",
     "text": [
      "       col2      \n",
      "-----------------\n",
      "0.000570160669383\n",
      "0.000609737755501\n",
      "0.000616031412784\n",
      "0.000630994120461\n",
      "0.000667480228474\n",
      "0.000680917518385\n",
      "0.000698578505086\n",
      "0.000741175010811\n",
      " 0.00075981861788\n",
      "0.000853870920612\n",
      "              ...\n",
      " 0.00342729607082\n",
      " 0.00342745664112\n",
      " 0.00346869528068\n",
      " 0.00350065400461\n",
      " 0.00350221781962\n",
      " 0.00352852691277\n",
      " 0.00353481707939\n",
      "  0.0035365240114\n",
      " 0.00355058612919\n",
      " 0.00357387056674\n",
      " 0.00359477262986\n",
      "Length = 110 rows\n"
     ]
    },
    {
     "ename": "TypeError",
     "evalue": "only integer scalar arrays can be converted to a scalar index",
     "output_type": "error",
     "traceback": [
      "\u001b[0;31m---------------------------------------------------------------------------\u001b[0m",
      "\u001b[0;31mTypeError\u001b[0m                                 Traceback (most recent call last)",
      "\u001b[0;32m<ipython-input-22-64b5fb52800c>\u001b[0m in \u001b[0;36m<module>\u001b[0;34m()\u001b[0m\n\u001b[1;32m      3\u001b[0m \u001b[0mprint\u001b[0m\u001b[0;34m(\u001b[0m\u001b[0mtheta\u001b[0m\u001b[0;34m)\u001b[0m\u001b[0;34m\u001b[0m\u001b[0m\n\u001b[1;32m      4\u001b[0m \u001b[0mpixelNumP\u001b[0m \u001b[0;34m=\u001b[0m \u001b[0mhp\u001b[0m\u001b[0;34m.\u001b[0m\u001b[0mpixelfunc\u001b[0m\u001b[0;34m.\u001b[0m\u001b[0mang2pix\u001b[0m\u001b[0;34m(\u001b[0m\u001b[0mnSide\u001b[0m\u001b[0;34m,\u001b[0m \u001b[0mtheta\u001b[0m\u001b[0;34m,\u001b[0m \u001b[0mphi\u001b[0m\u001b[0;34m,\u001b[0m \u001b[0mnest\u001b[0m\u001b[0;34m=\u001b[0m\u001b[0;32mFalse\u001b[0m\u001b[0;34m)\u001b[0m\u001b[0;34m\u001b[0m\u001b[0m\n\u001b[0;32m----> 5\u001b[0;31m \u001b[0mpixelMapP\u001b[0m\u001b[0;34m[\u001b[0m\u001b[0mpixelNumP\u001b[0m\u001b[0;34m]\u001b[0m \u001b[0;34m+=\u001b[0m \u001b[0;36m1\u001b[0m\u001b[0;34m\u001b[0m\u001b[0m\n\u001b[0m",
      "\u001b[0;31mTypeError\u001b[0m: only integer scalar arrays can be converted to a scalar index"
     ]
    }
   ],
   "source": [
    "theta = (-1.*dec + 90.)/180.*pi\n",
    "phi = ra/180.*pi\n",
    "print(theta)\n",
    "pixelNumP = hp.pixelfunc.ang2pix(nSide, theta, phi, nest=False)\n",
    "pixelMapP[pixelNumP] += 1"
   ]
  },
  {
   "cell_type": "code",
   "execution_count": null,
   "metadata": {
    "collapsed": true
   },
   "outputs": [],
   "source": []
  }
 ],
 "metadata": {
  "anaconda-cloud": {},
  "kernelspec": {
   "display_name": "Python [default]",
   "language": "python",
   "name": "python3"
  },
  "language_info": {
   "codemirror_mode": {
    "name": "ipython",
    "version": 3
   },
   "file_extension": ".py",
   "mimetype": "text/x-python",
   "name": "python",
   "nbconvert_exporter": "python",
   "pygments_lexer": "ipython3",
   "version": "3.5.2"
  }
 },
 "nbformat": 4,
 "nbformat_minor": 2
}
