{
 "cells": [
  {
   "cell_type": "code",
   "execution_count": 1,
   "metadata": {
    "collapsed": true
   },
   "outputs": [],
   "source": [
    "from numpy.random import uniform\n",
    "import matplotlib.pyplot as plt\n",
    "import numpy as np\n",
    "\n",
    "from astropy.io import ascii\n",
    "\n",
    "from mpl_toolkits.basemap import Basemap"
   ]
  },
  {
   "cell_type": "code",
   "execution_count": 2,
   "metadata": {
    "collapsed": false
   },
   "outputs": [],
   "source": [
    "# create north polar stereographic basemap\n",
    "m = Basemap(projection='hammer',lon_0=0,resolution='c')\n"
   ]
  },
  {
   "cell_type": "code",
   "execution_count": 3,
   "metadata": {
    "collapsed": false
   },
   "outputs": [],
   "source": [
    "path = '/cos_pc19a_npr/data/WISE/W4/WISE_W4_W4SNRge3_W4MPROlt4.0_nohdr.tbl'\n",
    "\n",
    "cols = ['designation', 'ra', 'dec', 'sigra', 'sigdec', 'w1mpro', 'w1sigmpro', 'w1snr', 'w2mpro', 'w2sigmpro', 'w2snr', 'w3mpro', 'w3sigmpro', 'w3snr', 'w4mpro', 'w4sigmpro', 'w4snr', 'w4rchi2']\n",
    "\n",
    "tbl = ascii.read(path)\n",
    "\n",
    "ra = tbl['ra']\n",
    "dec = tbl['dec']\n"
   ]
  },
  {
   "cell_type": "code",
   "execution_count": 4,
   "metadata": {
    "collapsed": true
   },
   "outputs": [],
   "source": [
    "npts = 50000\n",
    "bins = 30\n",
    "\n",
    "x, y = m(ra, dec)\n"
   ]
  },
  {
   "cell_type": "code",
   "execution_count": 5,
   "metadata": {
    "collapsed": false
   },
   "outputs": [],
   "source": [
    "xscaled = 4.*(x-0.5*(m.xmax-m.xmin))/m.xmax\n",
    "yscaled = 4.*(y-0.5*(m.ymax-m.ymin))/m.ymax\n",
    "z = xscaled*np.exp(-xscaled**2-yscaled**2)\n"
   ]
  },
  {
   "cell_type": "code",
   "execution_count": 8,
   "metadata": {
    "collapsed": false
   },
   "outputs": [
    {
     "name": "stdout",
     "output_type": "stream",
     "text": [
      "    ra    \n",
      "----------\n",
      "15.1683879\n",
      "41.6051158\n",
      " 2.0504863\n",
      " 4.6496039\n",
      "   6.12345\n",
      "32.1869563\n",
      "31.1946255\n",
      "20.1159695\n",
      "23.2690339\n",
      "23.6078798\n",
      "       ...\n",
      "58.7652142\n",
      "58.3640727\n",
      "58.2072728\n",
      "58.8752353\n",
      "60.3601332\n",
      "59.4023413\n",
      "59.4046716\n",
      "59.1082523\n",
      " 58.808666\n",
      "58.4260666\n",
      " 58.392171\n",
      "Length = 376857 rows     dec    \n",
      "-----------\n",
      " -1.6587249\n",
      " -0.4988269\n",
      " -2.4477249\n",
      " -7.0488605\n",
      "   -2.21915\n",
      "-17.3912998\n",
      " -17.287606\n",
      "-11.2391615\n",
      "-19.1544057\n",
      "-18.9744234\n",
      "        ...\n",
      " 52.6003059\n",
      " 53.1369129\n",
      " 53.4687298\n",
      "  53.761658\n",
      " 53.7214547\n",
      " 52.5399945\n",
      " 52.5018916\n",
      " 53.3022196\n",
      " 53.3521169\n",
      " 53.5830695\n",
      " 53.6061721\n",
      "Length = 376857 rows\n",
      "      ra     \n",
      "-------------\n",
      "19704786.1182\n",
      "22620675.7167\n",
      "18247745.1969\n",
      "18533941.8188\n",
      "18700332.8748\n",
      "21462876.5188\n",
      "21358878.1572\n",
      "20221479.3815\n",
      "20493979.4024\n",
      "20531940.5404\n",
      "          ...\n",
      " 22362314.509\n",
      "22289896.3056\n",
      "22251541.4375\n",
      "22273609.9406\n",
      "22379866.1042\n",
      "22412509.7647\n",
      " 22415827.583\n",
      "22328367.5481\n",
      "22303249.0425\n",
      " 22257325.796\n",
      "22253044.4419\n",
      "Length = 376857 rows      dec     \n",
      "-------------\n",
      "8825110.49394\n",
      "8953556.87232\n",
      "8737785.70962\n",
      "8226486.78983\n",
      "8763119.61551\n",
      "7064841.20682\n",
      "7077482.23418\n",
      "7757441.13428\n",
      "6879323.92256\n",
      "6898842.73077\n",
      "          ...\n",
      " 14798015.786\n",
      "14849677.2061\n",
      "14881989.0419\n",
      "14914417.3272\n",
      "14917854.6613\n",
      "14795130.7668\n",
      "14791326.2508\n",
      "14869829.9505\n",
      "14873321.9718\n",
      "14894442.3151\n",
      " 14896575.379\n",
      "Length = 376857 rows\n"
     ]
    },
    {
     "data": {
      "text/plain": [
       "(None, None)"
      ]
     },
     "execution_count": 8,
     "metadata": {},
     "output_type": "execute_result"
    }
   ],
   "source": [
    "print(ra,dec), print(x,y)"
   ]
  },
  {
   "cell_type": "code",
   "execution_count": 36,
   "metadata": {
    "collapsed": false
   },
   "outputs": [],
   "source": [
    "fig = plt.figure(figsize=(12,5))\n",
    "ax = fig.add_subplot(122)\n",
    "#CS = m.hexbin(x,y,C=z,gridsize=bins,cmap=plt.cm.jet)\n",
    "CS = m.hexbin(x,y,gridsize=bins,cmap=plt.cm.jet)"
   ]
  },
  {
   "cell_type": "code",
   "execution_count": 37,
   "metadata": {
    "collapsed": false
   },
   "outputs": [
    {
     "data": {
      "text/plain": [
       "<matplotlib.text.Text at 0x10a58f5c0>"
      ]
     },
     "execution_count": 37,
     "metadata": {},
     "output_type": "execute_result"
    }
   ],
   "source": [
    "m.drawparallels(np.arange(0,81,20))\n",
    "m.drawmeridians(np.arange(-180,181,60))\n",
    "m.colorbar(location=\"bottom\",label=\"Z\") # draw colorbar\n",
    "plt.title('hexbin', fontsize=20)\n"
   ]
  },
  {
   "cell_type": "code",
   "execution_count": 39,
   "metadata": {
    "collapsed": true
   },
   "outputs": [],
   "source": [
    "#plt.gcf().set_size_inches(18,10)\n",
    "plt.show()\n"
   ]
  },
  {
   "cell_type": "code",
   "execution_count": null,
   "metadata": {
    "collapsed": true
   },
   "outputs": [],
   "source": []
  },
  {
   "cell_type": "code",
   "execution_count": null,
   "metadata": {
    "collapsed": true
   },
   "outputs": [],
   "source": []
  },
  {
   "cell_type": "code",
   "execution_count": null,
   "metadata": {
    "collapsed": true
   },
   "outputs": [],
   "source": []
  },
  {
   "cell_type": "code",
   "execution_count": null,
   "metadata": {
    "collapsed": true
   },
   "outputs": [],
   "source": []
  },
  {
   "cell_type": "code",
   "execution_count": null,
   "metadata": {
    "collapsed": true
   },
   "outputs": [],
   "source": []
  }
 ],
 "metadata": {
  "anaconda-cloud": {},
  "kernelspec": {
   "display_name": "Python [Root]",
   "language": "python",
   "name": "Python [Root]"
  },
  "language_info": {
   "codemirror_mode": {
    "name": "ipython",
    "version": 3
   },
   "file_extension": ".py",
   "mimetype": "text/x-python",
   "name": "python",
   "nbconvert_exporter": "python",
   "pygments_lexer": "ipython3",
   "version": "3.5.2"
  }
 },
 "nbformat": 4,
 "nbformat_minor": 0
}
